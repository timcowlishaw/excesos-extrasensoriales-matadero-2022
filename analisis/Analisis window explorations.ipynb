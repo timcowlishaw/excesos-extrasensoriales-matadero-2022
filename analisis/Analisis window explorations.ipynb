{
 "cells": [
  {
   "cell_type": "code",
   "execution_count": 56,
   "id": "99df1454",
   "metadata": {},
   "outputs": [
    {
     "name": "stderr",
     "output_type": "stream",
     "text": [
      "[nltk_data] Downloading package stopwords to /Users/tim/nltk_data...\n",
      "[nltk_data]   Package stopwords is already up-to-date!\n",
      "[nltk_data] Downloading package punkt to /Users/tim/nltk_data...\n",
      "[nltk_data]   Package punkt is already up-to-date!\n"
     ]
    }
   ],
   "source": [
    "import pandas as pd\n",
    "import numpy as np\n",
    "import scipy as sp\n",
    "import math\n",
    "import matplotlib.pyplot as plt\n",
    "import locale\n",
    "import nltk\n",
    "import re\n",
    "from collections import Counter\n",
    "from nltk.tokenize import word_tokenize\n",
    "from nltk.corpus import stopwords\n",
    "from IPython.display import display\n",
    "nltk.download(\"stopwords\")\n",
    "nltk.download(\"punkt\")\n",
    "locale.setlocale( locale.LC_ALL, 'en_GB.UTF-8') \n",
    "plt.rcParams[\"figure.figsize\"] = (16,9)\n",
    "from sklearn.feature_extraction.text import CountVectorizer"
   ]
  },
  {
   "cell_type": "code",
   "execution_count": 12,
   "id": "f6e12416",
   "metadata": {},
   "outputs": [],
   "source": [
    "texts = pd.read_json(\"data/window_explorations.json\", orient='records')"
   ]
  },
  {
   "cell_type": "code",
   "execution_count": 13,
   "id": "88c57dbc",
   "metadata": {},
   "outputs": [],
   "source": [
    "texts[\"n_chars\"] = texts[\"text\"].apply(len)"
   ]
  },
  {
   "cell_type": "code",
   "execution_count": 14,
   "id": "3728c4ec",
   "metadata": {},
   "outputs": [
    {
     "data": {
      "text/plain": [
       "<AxesSubplot:>"
      ]
     },
     "execution_count": 14,
     "metadata": {},
     "output_type": "execute_result"
    },
    {
     "data": {
      "image/png": "[encoded data removed]",
      "text/plain": [
       "<Figure size 1152x648 with 1 Axes>"
      ]
     },
     "metadata": {
      "needs_background": "light"
     },
     "output_type": "display_data"
    }
   ],
   "source": [
    "texts[\"n_chars\"].hist()"
   ]
  },
  {
   "cell_type": "code",
   "execution_count": 16,
   "id": "b9c8213f",
   "metadata": {},
   "outputs": [],
   "source": [
    "texts[\"n_words\"] = texts[\"text\"].apply(lambda t: len(re.split(r\"\\s\", t)))"
   ]
  },
  {
   "cell_type": "code",
   "execution_count": 18,
   "id": "931b7675",
   "metadata": {},
   "outputs": [
    {
     "data": {
      "text/plain": [
       "<AxesSubplot:>"
      ]
     },
     "execution_count": 18,
     "metadata": {},
     "output_type": "execute_result"
    },
    {
     "data": {
      "image/png": "[encoded data removed]",
      "text/plain": [
       "<Figure size 1152x648 with 1 Axes>"
      ]
     },
     "metadata": {
      "needs_background": "light"
     },
     "output_type": "display_data"
    }
   ],
   "source": [
    "texts[\"n_words\"].hist()"
   ]
  },
  {
   "cell_type": "code",
   "execution_count": 19,
   "id": "a8a3a73e",
   "metadata": {},
   "outputs": [],
   "source": [
    "stops = stopwords.words(\"english\")\n",
    "def tokenize(texts):\n",
    "    tokens = []\n",
    "    if type(texts) == str:\n",
    "        texts = [texts]\n",
    "    for text in texts:\n",
    "        if type(text) == str:\n",
    "            for token in word_tokenize(text):\n",
    "                if token not in stops and token.isalnum():\n",
    "                    tokens.append(token.lower())\n",
    "    return tokens"
   ]
  },
  {
   "cell_type": "code",
   "execution_count": 20,
   "id": "8fb593f2",
   "metadata": {},
   "outputs": [],
   "source": [
    "texts[\"tokens\"] = texts[\"text\"].apply(tokenize)"
   ]
  },
  {
   "cell_type": "code",
   "execution_count": 21,
   "id": "9c6a60a2",
   "metadata": {},
   "outputs": [
    {
     "data": {
      "text/html": [
       "<div>\n",
       "<style scoped>\n",
       "    .dataframe tbody tr th:only-of-type {\n",
       "        vertical-align: middle;\n",
       "    }\n",
       "\n",
       "    .dataframe tbody tr th {\n",
       "        vertical-align: top;\n",
       "    }\n",
       "\n",
       "    .dataframe thead th {\n",
       "        text-align: right;\n",
       "    }\n",
       "</style>\n",
       "<table border=\"1\" class=\"dataframe\">\n",
       "  <thead>\n",
       "    <tr style=\"text-align: right;\">\n",
       "      <th></th>\n",
       "      <th>text</th>\n",
       "      <th>n_chars</th>\n",
       "      <th>n_words</th>\n",
       "      <th>tokens</th>\n",
       "    </tr>\n",
       "  </thead>\n",
       "  <tbody>\n",
       "    <tr>\n",
       "      <th>0</th>\n",
       "      <td>On the right i can see a lake with boats. Behi...</td>\n",
       "      <td>125</td>\n",
       "      <td>27</td>\n",
       "      <td>[on, right, see, lake, boats, behind, mountain...</td>\n",
       "    </tr>\n",
       "    <tr>\n",
       "      <th>1</th>\n",
       "      <td>It's a still and sleepy new year's Day, with j...</td>\n",
       "      <td>105</td>\n",
       "      <td>20</td>\n",
       "      <td>[it, still, sleepy, new, year, day, breath, wi...</td>\n",
       "    </tr>\n",
       "    <tr>\n",
       "      <th>2</th>\n",
       "      <td>a steep rocky crevice, each hold so familiar t...</td>\n",
       "      <td>226</td>\n",
       "      <td>42</td>\n",
       "      <td>[steep, rocky, crevice, hold, familiar, hands,...</td>\n",
       "    </tr>\n",
       "    <tr>\n",
       "      <th>3</th>\n",
       "      <td>Die Nacht ist bereits hereingebrochen, die Ste...</td>\n",
       "      <td>147</td>\n",
       "      <td>21</td>\n",
       "      <td>[die, nacht, ist, bereits, hereingebrochen, di...</td>\n",
       "    </tr>\n",
       "    <tr>\n",
       "      <th>4</th>\n",
       "      <td>I'm at the end of gravel covered breakwater wi...</td>\n",
       "      <td>142</td>\n",
       "      <td>29</td>\n",
       "      <td>[i, end, gravel, covered, breakwater, pleasure...</td>\n",
       "    </tr>\n",
       "    <tr>\n",
       "      <th>...</th>\n",
       "      <td>...</td>\n",
       "      <td>...</td>\n",
       "      <td>...</td>\n",
       "      <td>...</td>\n",
       "    </tr>\n",
       "    <tr>\n",
       "      <th>328</th>\n",
       "      <td>The sky today is a clear light blue and mostly...</td>\n",
       "      <td>234</td>\n",
       "      <td>43</td>\n",
       "      <td>[the, sky, today, clear, light, blue, mostly, ...</td>\n",
       "    </tr>\n",
       "    <tr>\n",
       "      <th>329</th>\n",
       "      <td>The driveway is clean, few leaves on the groun...</td>\n",
       "      <td>201</td>\n",
       "      <td>40</td>\n",
       "      <td>[the, driveway, clean, leaves, ground, there, ...</td>\n",
       "    </tr>\n",
       "    <tr>\n",
       "      <th>330</th>\n",
       "      <td>beautiful</td>\n",
       "      <td>9</td>\n",
       "      <td>1</td>\n",
       "      <td>[beautiful]</td>\n",
       "    </tr>\n",
       "    <tr>\n",
       "      <th>331</th>\n",
       "      <td>The snow has just melted this week.  There is ...</td>\n",
       "      <td>223</td>\n",
       "      <td>44</td>\n",
       "      <td>[the, snow, melted, week, there, grass, also, ...</td>\n",
       "    </tr>\n",
       "    <tr>\n",
       "      <th>332</th>\n",
       "      <td>The window offers a gray and dull view. Everyt...</td>\n",
       "      <td>131</td>\n",
       "      <td>24</td>\n",
       "      <td>[the, window, offers, gray, dull, view, everyt...</td>\n",
       "    </tr>\n",
       "  </tbody>\n",
       "</table>\n",
       "<p>333 rows × 4 columns</p>\n",
       "</div>"
      ],
      "text/plain": [
       "                                                  text  n_chars  n_words  \\\n",
       "0    On the right i can see a lake with boats. Behi...      125       27   \n",
       "1    It's a still and sleepy new year's Day, with j...      105       20   \n",
       "2    a steep rocky crevice, each hold so familiar t...      226       42   \n",
       "3    Die Nacht ist bereits hereingebrochen, die Ste...      147       21   \n",
       "4    I'm at the end of gravel covered breakwater wi...      142       29   \n",
       "..                                                 ...      ...      ...   \n",
       "328  The sky today is a clear light blue and mostly...      234       43   \n",
       "329  The driveway is clean, few leaves on the groun...      201       40   \n",
       "330                                          beautiful        9        1   \n",
       "331  The snow has just melted this week.  There is ...      223       44   \n",
       "332  The window offers a gray and dull view. Everyt...      131       24   \n",
       "\n",
       "                                                tokens  \n",
       "0    [on, right, see, lake, boats, behind, mountain...  \n",
       "1    [it, still, sleepy, new, year, day, breath, wi...  \n",
       "2    [steep, rocky, crevice, hold, familiar, hands,...  \n",
       "3    [die, nacht, ist, bereits, hereingebrochen, di...  \n",
       "4    [i, end, gravel, covered, breakwater, pleasure...  \n",
       "..                                                 ...  \n",
       "328  [the, sky, today, clear, light, blue, mostly, ...  \n",
       "329  [the, driveway, clean, leaves, ground, there, ...  \n",
       "330                                        [beautiful]  \n",
       "331  [the, snow, melted, week, there, grass, also, ...  \n",
       "332  [the, window, offers, gray, dull, view, everyt...  \n",
       "\n",
       "[333 rows x 4 columns]"
      ]
     },
     "execution_count": 21,
     "metadata": {},
     "output_type": "execute_result"
    }
   ],
   "source": [
    "texts"
   ]
  },
  {
   "cell_type": "code",
   "execution_count": 137,
   "id": "bb581000",
   "metadata": {},
   "outputs": [],
   "source": [
    "vectorizer =  CountVectorizer(stop_words='english')\n",
    "counts = vectorizer.fit_transform(texts.text.values)\n",
    "counts_normalized_for_length = counts / texts.n_words.values[:,None]"
   ]
  },
  {
   "cell_type": "code",
   "execution_count": 139,
   "id": "21d0bfe3",
   "metadata": {},
   "outputs": [],
   "source": [
    "average = np.array(counts_normalized_for_length.sum(axis=0) / counts_normalized_for_length.shape[0]).reshape(-1)"
   ]
  },
  {
   "cell_type": "code",
   "execution_count": 145,
   "id": "35825c2e",
   "metadata": {},
   "outputs": [],
   "source": [
    "distances = []\n",
    "for i in range(0, counts.shape[0]):\n",
    "    row = counts_normalized_for_length[i,:].reshape(-1)\n",
    "    distances.append(sp.spatial.distance.cosine(average, row))"
   ]
  },
  {
   "cell_type": "code",
   "execution_count": 146,
   "id": "b1743572",
   "metadata": {},
   "outputs": [],
   "source": [
    "texts[\"distance_to_mean_normalized\"] = distances"
   ]
  },
  {
   "cell_type": "code",
   "execution_count": 152,
   "id": "ab64a02a",
   "metadata": {},
   "outputs": [
    {
     "name": "stdout",
     "output_type": "stream",
     "text": [
      "When I look out the window in my room, the first thing I notice are the two tall trees. One of the trees splits into two separate trunks. The trees are cool brown, with very minimal amounts of small green leaves. There is grass below the trees, but there are weeds in the grass. Further out from the trees is a parking lot, which is covered in concrete and gravel. There are 3 cars parked in the lot. \n",
      "----\n",
      "Houses and trees\n",
      "----\n",
      "Trees; so many trees. snow covering the ground and bare trees covering the entirety of my surroundings. The bright sun reflecting off of the snow blinding me. \n",
      "----\n",
      "Trees and gardens\n",
      "----\n",
      "Through my window I see that it is almost winter. I see a beautiful and peaceful green space (some of the few that remain in the ever-growing and transforming grey suburbs). Close by, I see grass and the hedge both with different colors of green. To the side, I see some plants still with flowers (in the summer they are visited by many bees and butterflies). Further away I see shrubs, bushes and trees. Different trees with more shades of green. Some shrubs and trees lost their leaves, other are still green. This is an amazing substrate for the other organisms that inhabit this garden. Birds speed by flying to and from different locations. I recognize them (the diligent black birds, the determined sparrows, the secretive robins, the colorful tits, the shy doves...). They like to eat worms from the ground or seeds here and there. A couple of the birds are drinking the cold water found in the water plate. One is attempting to take a bath, but the aerial high traffic of relatives discourages her. I see the sky in between the leaves of the pine trees. I like the contrast of today’s grey sky with the dark and rough trunk of the pines. And when I open the window, I can smell many natural smells and I can hear the leaves dance with the wind and the birds sing. I just heard a jay! I do not see it. She/he is somewhere hiding by the tree branches. It seems she/he found a seed or acorn. A couple of crows pass by flying conversing something. They are interrupted by a gardener far away blowing leaves. I prefer to return to the garden, with its natural noises and life. Later today, looking through my window, I am sure I will be surprised by another soothing view. And I am sure tomorrow will highlight other aspects of this garden. My wish is that this garden can remain there forever, perhaps a little wilder than it is now with its manicured lawn. A garden that can remain for the plants and animals and for people to enjoy it respectfully, when looking through their window or visiting it. \n",
      "----\n",
      "My building is surrounded by trees and other houses. For one of the sides (the window of the kitchen and two of the rooms), I can see other building blocks and its garden, a portion of the 31th street, and  also trees. Through the balcony and two other bedrooms I can see the parking spots within the unit, other houses of this building block, and more trees. \n",
      "----\n",
      "I see trees and cars and people \n",
      "----\n",
      "From our balcony we see green hedges and trees. The balcony is south-facing and it is sunny today. Through the trees I can see other vacation houses nearby.\n",
      "----\n",
      "It is a nice and sunny day today.  In front of me are palm trees from the house in front of my window. Beyond that house is a line of pine trees with a great view of the San Gabriel Mountains in the Angeles National Forest.\n",
      "----\n",
      "Snow, with many birds flying in between the many trees\n",
      "----\n"
     ]
    }
   ],
   "source": [
    "for (_, row) in texts.sort_values(\"distance_to_mean_normalized\").head(10).iterrows():\n",
    "    print(row.text)\n",
    "    print(\"----\")"
   ]
  },
  {
   "cell_type": "code",
   "execution_count": 153,
   "id": "e206a96d",
   "metadata": {},
   "outputs": [
    {
     "name": "stdout",
     "output_type": "stream",
     "text": [
      "I can see Hochshulstrasse 50, Studenten Wohnheim infront of me. I can see Fritz Loffner strasse. \n",
      "----\n",
      "Veo un paisaje de muchas fabricas y aparcamientos de autos\n",
      "----\n",
      "Shanghai Jiao Tong University\n",
      "----\n",
      "Tha ann an ath leathan agus tha tor solas na nolaig ann \n",
      "Oh mo chreach! OMC\n",
      "----\n",
      "Yamaha PSRE 463 keyboard, Hohner harmonicas, two Stylophones and a Casio VL Tone. Fender Squier PJ bass leaning on one of the sofas. \n",
      "\n",
      "Also aTV and a fish tank. All of the furniture is from IKEA outwith the weights bench. \n",
      "----\n",
      "Oscuridad. Un interminable cielo gris. La ladera de una montaña con unos árboles que ya han perdido sus hojas. Unos preciosos coal tits. Nadie. \n",
      "----\n",
      "The bridge twinkles and the stars sway\n",
      "----\n",
      "I see land and a lake Mohawk golf club. I also see a trails and streets. I even see a lake.\n",
      "----\n",
      "I can see cloud over the Cairngorms to the south\n",
      "----\n",
      "Upstairs lounge area\n",
      "----\n",
      "After a hectic week working at home this seascape gives me peace and relaxation.\n",
      "----\n",
      "a steep rocky crevice, each hold so familiar to my hands and hard leather boots, the gorse, rocks and heather pass efficiently beneath my feet, no rest till the top is reached, my heart beats hard as the wind tips me sideways.\n",
      "----\n",
      "I can see a big chimney\n",
      "----\n",
      "Nice campus. \n",
      "----\n",
      "sunny and smiling embrace of the sea\n",
      "----\n",
      "I see a calm Navy Channel across to North Penders, framed by douglas firs.  A couple of bull kelp are floating in the nearby bay\n",
      "----\n",
      "Slow and quiet but peaceful.\n",
      "----\n",
      "I'm working from home. My home office is in my lounge with my computer setup underneath a skylight with my sofa and TV behind me. \n",
      "----\n",
      "Cold wet miserable weather \n",
      "----\n",
      "A residential community with rows and rows of concrete houses\n",
      "----\n"
     ]
    }
   ],
   "source": [
    "for (_, row) in texts.sort_values(\"distance_to_mean\", ascending=False).head(20).iterrows():\n",
    "    print(row.text)\n",
    "    print(\"----\")"
   ]
  },
  {
   "cell_type": "code",
   "execution_count": 154,
   "id": "802f651c",
   "metadata": {},
   "outputs": [
    {
     "data": {
      "text/plain": [
       "[array([], dtype='<U18')]"
      ]
     },
     "execution_count": 154,
     "metadata": {},
     "output_type": "execute_result"
    }
   ],
   "source": [
    "vectorizer.inverse_transform((average >= 0.0\n",
    "                        1).astype(int).reshape(1, -1))"
   ]
  },
  {
   "cell_type": "code",
   "execution_count": 1,
   "id": "c8846745",
   "metadata": {},
   "outputs": [
    {
     "ename": "NameError",
     "evalue": "name 'average' is not defined",
     "output_type": "error",
     "traceback": [
      "\u001b[0;31m---------------------------------------------------------------------------\u001b[0m",
      "\u001b[0;31mNameError\u001b[0m                                 Traceback (most recent call last)",
      "Input \u001b[0;32mIn [1]\u001b[0m, in \u001b[0;36m<cell line: 1>\u001b[0;34m()\u001b[0m\n\u001b[0;32m----> 1\u001b[0m \u001b[43maverage\u001b[49m\u001b[38;5;241m.\u001b[39margmax()\n",
      "\u001b[0;31mNameError\u001b[0m: name 'average' is not defined"
     ]
    }
   ],
   "source": [
    "average.argmax()"
   ]
  },
  {
   "cell_type": "code",
   "execution_count": 3,
   "id": "bd571878",
   "metadata": {},
   "outputs": [
    {
     "data": {
      "text/plain": [
       "['Hello', 'Lena', ',', 'what', 'are', 'we', 'doing', 'today', '?']"
      ]
     },
     "execution_count": 3,
     "metadata": {},
     "output_type": "execute_result"
    }
   ],
   "source": [
    "from nltk.tokenize import word_tokenize\n",
    "word_tokenize(\"Hello Lena, what are we doing today?\")"
   ]
  },
  {
   "cell_type": "code",
   "execution_count": null,
   "id": "8ed5e074",
   "metadata": {},
   "outputs": [],
   "source": []
  }
 ],
 "metadata": {
  "kernelspec": {
   "display_name": "Python 3 (ipykernel)",
   "language": "python",
   "name": "python3"
  },
  "language_info": {
   "codemirror_mode": {
    "name": "ipython",
    "version": 3
   },
   "file_extension": ".py",
   "mimetype": "text/x-python",
   "name": "python",
   "nbconvert_exporter": "python",
   "pygments_lexer": "ipython3",
   "version": "3.10.1"
  }
 },
 "nbformat": 4,
 "nbformat_minor": 5
}
